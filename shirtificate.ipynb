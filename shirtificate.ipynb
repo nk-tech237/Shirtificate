{
 "cells": [
  {
   "cell_type": "code",
   "execution_count": 3,
   "metadata": {},
   "outputs": [],
   "source": [
    "from fpdf import FPDF"
   ]
  },
  {
   "cell_type": "markdown",
   "metadata": {},
   "source": [
    "*Create Object*"
   ]
  },
  {
   "cell_type": "code",
   "execution_count": 4,
   "metadata": {},
   "outputs": [],
   "source": [
    "# Create object\n",
    "pdf = FPDF()\n",
    "\n",
    "# Add a page to pdf object\n",
    "pdf.add_page()\n",
    "\n",
    "# Save pdf\n",
    "pdf.output(\"shirtificate.pdf\")\n"
   ]
  },
  {
   "cell_type": "markdown",
   "metadata": {},
   "source": [
    "*Add Text to PDF*"
   ]
  },
  {
   "cell_type": "code",
   "execution_count": 6,
   "metadata": {},
   "outputs": [],
   "source": [
    "# create and add page to object\n",
    "pdf = FPDF()\n",
    "pdf.add_page()\n",
    "\n",
    "# Set text font and add text\n",
    "pdf.set_font(\"helvetica\", \"B\", 30)\n",
    "pdf.cell(w=0, h=20, text=\"CS50 Shirtificate\", new_x=\"LMARGIN\", new_y=\"NEXT\", align=\"C\")\n",
    "\n",
    "# Save pdf\n",
    "pdf.output(\"shirtificate.pdf\")"
   ]
  },
  {
   "cell_type": "markdown",
   "metadata": {},
   "source": [
    "*Add Image*"
   ]
  },
  {
   "cell_type": "code",
   "execution_count": 8,
   "metadata": {},
   "outputs": [],
   "source": [
    "pdf = FPDF()\n",
    "pdf.add_page()\n",
    "pdf.set_font(\"helvetica\", \"B\", 30)\n",
    "pdf.cell(w=0, h=20, text=\"CS50 Shirtificate\", new_x=\"LMARGIN\", new_y=\"NEXT\", align=\"C\")\n",
    "\n",
    "# Add image\n",
    "pdf.image(\"shirtificate.png\",x=\"C\", y=70, w=180)\n",
    "\n",
    "pdf.output(\"Shirtificate.pdf\")"
   ]
  },
  {
   "cell_type": "markdown",
   "metadata": {},
   "source": [
    "*Add Text on Image*"
   ]
  },
  {
   "cell_type": "code",
   "execution_count": 11,
   "metadata": {},
   "outputs": [],
   "source": [
    "pdf = FPDF()\n",
    "pdf.add_page()\n",
    "pdf.set_font(\"helvetica\", \"B\", 30)\n",
    "pdf.cell(w=0, h=20, text=\"CS50 Shirtificate\", new_x=\"LMARGIN\", new_y=\"NEXT\", align=\"C\")\n",
    "pdf.image(\"shirtificate.png\", x=\"C\", y=70, w=180)\n",
    "\n",
    "# Add text ontop of image\n",
    "pdf.set_text_color(255, 255, 255)\n",
    "pdf.set_font(\"helvetica\", \"B\", 20)\n",
    "pdf.cell(w=0, h=180, text=\"NK Harvard took cs50\", align=\"C\")\n",
    "\n",
    "pdf.output(\"Shirtificate.pdf\")"
   ]
  },
  {
   "cell_type": "code",
   "execution_count": null,
   "metadata": {},
   "outputs": [],
   "source": []
  }
 ],
 "metadata": {
  "kernelspec": {
   "display_name": "Python 3",
   "language": "python",
   "name": "python3"
  },
  "language_info": {
   "codemirror_mode": {
    "name": "ipython",
    "version": 3
   },
   "file_extension": ".py",
   "mimetype": "text/x-python",
   "name": "python",
   "nbconvert_exporter": "python",
   "pygments_lexer": "ipython3",
   "version": "3.10.9"
  }
 },
 "nbformat": 4,
 "nbformat_minor": 2
}
